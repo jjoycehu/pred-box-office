{
 "cells": [
  {
   "cell_type": "code",
   "execution_count": 1,
   "metadata": {},
   "outputs": [],
   "source": [
    "# import pandas, numpy & re library\n",
    "import pandas as pd\n",
    "import numpy as np\n",
    "import re"
   ]
  },
  {
   "cell_type": "code",
   "execution_count": 2,
   "metadata": {},
   "outputs": [
    {
     "name": "stderr",
     "output_type": "stream",
     "text": [
      "[nltk_data] Downloading collection 'popular'\n",
      "[nltk_data]    | \n",
      "[nltk_data]    | Downloading package cmudict to\n",
      "[nltk_data]    |     C:\\Users\\jcchu\\AppData\\Roaming\\nltk_data...\n",
      "[nltk_data]    |   Package cmudict is already up-to-date!\n",
      "[nltk_data]    | Downloading package gazetteers to\n",
      "[nltk_data]    |     C:\\Users\\jcchu\\AppData\\Roaming\\nltk_data...\n",
      "[nltk_data]    |   Package gazetteers is already up-to-date!\n",
      "[nltk_data]    | Downloading package genesis to\n",
      "[nltk_data]    |     C:\\Users\\jcchu\\AppData\\Roaming\\nltk_data...\n",
      "[nltk_data]    |   Package genesis is already up-to-date!\n",
      "[nltk_data]    | Downloading package gutenberg to\n",
      "[nltk_data]    |     C:\\Users\\jcchu\\AppData\\Roaming\\nltk_data...\n",
      "[nltk_data]    |   Package gutenberg is already up-to-date!\n",
      "[nltk_data]    | Downloading package inaugural to\n",
      "[nltk_data]    |     C:\\Users\\jcchu\\AppData\\Roaming\\nltk_data...\n",
      "[nltk_data]    |   Package inaugural is already up-to-date!\n",
      "[nltk_data]    | Downloading package movie_reviews to\n",
      "[nltk_data]    |     C:\\Users\\jcchu\\AppData\\Roaming\\nltk_data...\n",
      "[nltk_data]    |   Package movie_reviews is already up-to-date!\n",
      "[nltk_data]    | Downloading package names to\n",
      "[nltk_data]    |     C:\\Users\\jcchu\\AppData\\Roaming\\nltk_data...\n",
      "[nltk_data]    |   Package names is already up-to-date!\n",
      "[nltk_data]    | Downloading package shakespeare to\n",
      "[nltk_data]    |     C:\\Users\\jcchu\\AppData\\Roaming\\nltk_data...\n",
      "[nltk_data]    |   Package shakespeare is already up-to-date!\n",
      "[nltk_data]    | Downloading package stopwords to\n",
      "[nltk_data]    |     C:\\Users\\jcchu\\AppData\\Roaming\\nltk_data...\n",
      "[nltk_data]    |   Package stopwords is already up-to-date!\n",
      "[nltk_data]    | Downloading package treebank to\n",
      "[nltk_data]    |     C:\\Users\\jcchu\\AppData\\Roaming\\nltk_data...\n",
      "[nltk_data]    |   Package treebank is already up-to-date!\n",
      "[nltk_data]    | Downloading package twitter_samples to\n",
      "[nltk_data]    |     C:\\Users\\jcchu\\AppData\\Roaming\\nltk_data...\n",
      "[nltk_data]    |   Package twitter_samples is already up-to-date!\n",
      "[nltk_data]    | Downloading package omw to\n",
      "[nltk_data]    |     C:\\Users\\jcchu\\AppData\\Roaming\\nltk_data...\n",
      "[nltk_data]    |   Package omw is already up-to-date!\n",
      "[nltk_data]    | Downloading package omw-1.4 to\n",
      "[nltk_data]    |     C:\\Users\\jcchu\\AppData\\Roaming\\nltk_data...\n",
      "[nltk_data]    |   Package omw-1.4 is already up-to-date!\n",
      "[nltk_data]    | Downloading package wordnet to\n",
      "[nltk_data]    |     C:\\Users\\jcchu\\AppData\\Roaming\\nltk_data...\n",
      "[nltk_data]    |   Package wordnet is already up-to-date!\n",
      "[nltk_data]    | Downloading package wordnet2021 to\n",
      "[nltk_data]    |     C:\\Users\\jcchu\\AppData\\Roaming\\nltk_data...\n",
      "[nltk_data]    |   Package wordnet2021 is already up-to-date!\n",
      "[nltk_data]    | Downloading package wordnet31 to\n",
      "[nltk_data]    |     C:\\Users\\jcchu\\AppData\\Roaming\\nltk_data...\n",
      "[nltk_data]    |   Package wordnet31 is already up-to-date!\n",
      "[nltk_data]    | Downloading package wordnet_ic to\n",
      "[nltk_data]    |     C:\\Users\\jcchu\\AppData\\Roaming\\nltk_data...\n",
      "[nltk_data]    |   Package wordnet_ic is already up-to-date!\n",
      "[nltk_data]    | Downloading package words to\n",
      "[nltk_data]    |     C:\\Users\\jcchu\\AppData\\Roaming\\nltk_data...\n",
      "[nltk_data]    |   Package words is already up-to-date!\n",
      "[nltk_data]    | Downloading package maxent_ne_chunker to\n",
      "[nltk_data]    |     C:\\Users\\jcchu\\AppData\\Roaming\\nltk_data...\n",
      "[nltk_data]    |   Package maxent_ne_chunker is already up-to-date!\n",
      "[nltk_data]    | Downloading package punkt to\n",
      "[nltk_data]    |     C:\\Users\\jcchu\\AppData\\Roaming\\nltk_data...\n",
      "[nltk_data]    |   Package punkt is already up-to-date!\n",
      "[nltk_data]    | Downloading package snowball_data to\n",
      "[nltk_data]    |     C:\\Users\\jcchu\\AppData\\Roaming\\nltk_data...\n",
      "[nltk_data]    |   Package snowball_data is already up-to-date!\n",
      "[nltk_data]    | Downloading package averaged_perceptron_tagger to\n",
      "[nltk_data]    |     C:\\Users\\jcchu\\AppData\\Roaming\\nltk_data...\n",
      "[nltk_data]    |   Package averaged_perceptron_tagger is already up-\n",
      "[nltk_data]    |       to-date!\n",
      "[nltk_data]    | \n",
      "[nltk_data]  Done downloading collection popular\n",
      "[nltk_data] Downloading package vader_lexicon to\n",
      "[nltk_data]     C:\\Users\\jcchu\\AppData\\Roaming\\nltk_data...\n",
      "[nltk_data]   Package vader_lexicon is already up-to-date!\n",
      "[nltk_data] Downloading package stopwords to\n",
      "[nltk_data]     C:\\Users\\jcchu\\AppData\\Roaming\\nltk_data...\n",
      "[nltk_data]   Package stopwords is already up-to-date!\n",
      "[nltk_data] Downloading package names to\n",
      "[nltk_data]     C:\\Users\\jcchu\\AppData\\Roaming\\nltk_data...\n",
      "[nltk_data]   Package names is already up-to-date!\n"
     ]
    }
   ],
   "source": [
    "# import and download nltk packages\n",
    "import nltk\n",
    "\n",
    "nltk.download('popular')\n",
    "nltk.download('vader_lexicon')\n",
    "\n",
    "nltk.download(['stopwords', 'names'])\n",
    "\n",
    "from nltk.probability import FreqDist\n",
    "from nltk.sentiment import SentimentIntensityAnalyzer\n",
    "from nltk.tag import pos_tag\n",
    "from nltk.stem.wordnet import WordNetLemmatizer"
   ]
  },
  {
   "cell_type": "code",
   "execution_count": 3,
   "metadata": {},
   "outputs": [
    {
     "data": {
      "text/html": [
       "<div>\n",
       "<style scoped>\n",
       "    .dataframe tbody tr th:only-of-type {\n",
       "        vertical-align: middle;\n",
       "    }\n",
       "\n",
       "    .dataframe tbody tr th {\n",
       "        vertical-align: top;\n",
       "    }\n",
       "\n",
       "    .dataframe thead th {\n",
       "        text-align: right;\n",
       "    }\n",
       "</style>\n",
       "<table border=\"1\" class=\"dataframe\">\n",
       "  <thead>\n",
       "    <tr style=\"text-align: right;\">\n",
       "      <th></th>\n",
       "      <th>President</th>\n",
       "      <th>Order</th>\n",
       "      <th>Headline</th>\n",
       "      <th>Text</th>\n",
       "    </tr>\n",
       "  </thead>\n",
       "  <tbody>\n",
       "    <tr>\n",
       "      <th>0</th>\n",
       "      <td>Joe Biden</td>\n",
       "      <td>46</td>\n",
       "      <td>Introduction</td>\n",
       "      <td>Joseph Robinette Biden Jr. (/ˈbaɪdən/ (listen)...</td>\n",
       "    </tr>\n",
       "    <tr>\n",
       "      <th>1</th>\n",
       "      <td>Joe Biden</td>\n",
       "      <td>46</td>\n",
       "      <td>Early life (1942–1965)</td>\n",
       "      <td>Joseph Robinette Biden Jr. was born on Novembe...</td>\n",
       "    </tr>\n",
       "    <tr>\n",
       "      <th>2</th>\n",
       "      <td>Joe Biden</td>\n",
       "      <td>46</td>\n",
       "      <td>Marriages, law school, and early career (1966–...</td>\n",
       "      <td>On August 27, 1966, Biden married Neilia Hunte...</td>\n",
       "    </tr>\n",
       "    <tr>\n",
       "      <th>3</th>\n",
       "      <td>Joe Biden</td>\n",
       "      <td>46</td>\n",
       "      <td>1972 U.S. Senate campaign in Delaware</td>\n",
       "      <td>In 1972, Biden defeated Republican incumbent J...</td>\n",
       "    </tr>\n",
       "    <tr>\n",
       "      <th>4</th>\n",
       "      <td>Joe Biden</td>\n",
       "      <td>46</td>\n",
       "      <td>Death of wife and daughter</td>\n",
       "      <td>On December 18, 1972, a few weeks after Biden ...</td>\n",
       "    </tr>\n",
       "    <tr>\n",
       "      <th>...</th>\n",
       "      <td>...</td>\n",
       "      <td>...</td>\n",
       "      <td>...</td>\n",
       "      <td>...</td>\n",
       "    </tr>\n",
       "    <tr>\n",
       "      <th>645</th>\n",
       "      <td>Franklin D. Roosevelt</td>\n",
       "      <td>32</td>\n",
       "      <td>Lynching</td>\n",
       "      <td>Roosevelt stopped short of joining NAACP leade...</td>\n",
       "    </tr>\n",
       "    <tr>\n",
       "      <th>646</th>\n",
       "      <td>Franklin D. Roosevelt</td>\n",
       "      <td>32</td>\n",
       "      <td>Japanese-Americans</td>\n",
       "      <td>The attack on Pearl Harbor raised concerns in ...</td>\n",
       "    </tr>\n",
       "    <tr>\n",
       "      <th>647</th>\n",
       "      <td>Franklin D. Roosevelt</td>\n",
       "      <td>32</td>\n",
       "      <td>Jews</td>\n",
       "      <td>There is controversy among historians about Ro...</td>\n",
       "    </tr>\n",
       "    <tr>\n",
       "      <th>648</th>\n",
       "      <td>Franklin D. Roosevelt</td>\n",
       "      <td>32</td>\n",
       "      <td>Historical reputation</td>\n",
       "      <td>Roosevelt is widely considered to be one of th...</td>\n",
       "    </tr>\n",
       "    <tr>\n",
       "      <th>649</th>\n",
       "      <td>Franklin D. Roosevelt</td>\n",
       "      <td>32</td>\n",
       "      <td>Memorials</td>\n",
       "      <td>Roosevelt's home in Hyde Park is now a Nationa...</td>\n",
       "    </tr>\n",
       "  </tbody>\n",
       "</table>\n",
       "<p>650 rows × 4 columns</p>\n",
       "</div>"
      ],
      "text/plain": [
       "                 President  Order  \\\n",
       "0                Joe Biden     46   \n",
       "1                Joe Biden     46   \n",
       "2                Joe Biden     46   \n",
       "3                Joe Biden     46   \n",
       "4                Joe Biden     46   \n",
       "..                     ...    ...   \n",
       "645  Franklin D. Roosevelt     32   \n",
       "646  Franklin D. Roosevelt     32   \n",
       "647  Franklin D. Roosevelt     32   \n",
       "648  Franklin D. Roosevelt     32   \n",
       "649  Franklin D. Roosevelt     32   \n",
       "\n",
       "                                              Headline  \\\n",
       "0                                         Introduction   \n",
       "1                               Early life (1942–1965)   \n",
       "2    Marriages, law school, and early career (1966–...   \n",
       "3                1972 U.S. Senate campaign in Delaware   \n",
       "4                           Death of wife and daughter   \n",
       "..                                                 ...   \n",
       "645                                           Lynching   \n",
       "646                                 Japanese-Americans   \n",
       "647                                               Jews   \n",
       "648                              Historical reputation   \n",
       "649                                          Memorials   \n",
       "\n",
       "                                                  Text  \n",
       "0    Joseph Robinette Biden Jr. (/ˈbaɪdən/ (listen)...  \n",
       "1    Joseph Robinette Biden Jr. was born on Novembe...  \n",
       "2    On August 27, 1966, Biden married Neilia Hunte...  \n",
       "3    In 1972, Biden defeated Republican incumbent J...  \n",
       "4    On December 18, 1972, a few weeks after Biden ...  \n",
       "..                                                 ...  \n",
       "645  Roosevelt stopped short of joining NAACP leade...  \n",
       "646  The attack on Pearl Harbor raised concerns in ...  \n",
       "647  There is controversy among historians about Ro...  \n",
       "648  Roosevelt is widely considered to be one of th...  \n",
       "649  Roosevelt's home in Hyde Park is now a Nationa...  \n",
       "\n",
       "[650 rows x 4 columns]"
      ]
     },
     "execution_count": 3,
     "metadata": {},
     "output_type": "execute_result"
    }
   ],
   "source": [
    "# read wiki text csv\n",
    "scraped = pd.read_csv('Presidents Scraped Wiki Text.csv')\n",
    "scraped"
   ]
  },
  {
   "cell_type": "code",
   "execution_count": 4,
   "metadata": {},
   "outputs": [],
   "source": [
    "def lemmatize_sentence(tokens):\n",
    "    lemmatizer = WordNetLemmatizer()\n",
    "    lemmatized_sentence = []\n",
    "    for word, tag in pos_tag(tokens):\n",
    "        if tag.startswith('NN'):\n",
    "            pos = 'n'\n",
    "        elif tag.startswith('VB'):\n",
    "            pos = 'v'\n",
    "        else:\n",
    "            pos = 'a'\n",
    "        lemmatized_sentence.append(lemmatizer.lemmatize(word, pos))\n",
    "    return lemmatized_sentence"
   ]
  },
  {
   "cell_type": "code",
   "execution_count": 5,
   "metadata": {},
   "outputs": [],
   "source": [
    "def get_words(text):\n",
    "    # removes numbers and punctuation\n",
    "    text = re.sub('-', ' ', text)\n",
    "    text = re.sub(r'\\'s|[!()\\[\\]{};:\"ˈ,<>./?@#$%^&*_~]', '', text)\n",
    "    words = [w for w in text.split(' ') if w.isalpha()]\n",
    "    # removes words with nontraditional letters\n",
    "    words = [w for w in words if re.search(r'[^A-Za-z]', w) is None]\n",
    "    # removes common names and stop words\n",
    "    names = list(map(str.lower, nltk.corpus.names.words()))\n",
    "    stopwords = nltk.corpus.stopwords.words(\"english\")\n",
    "    remove_words = names + stopwords\n",
    "    words = [w for w in words if w.lower() not in remove_words]\n",
    "    # normalizes text \n",
    "    word_list = lemmatize_sentence(words)\n",
    "    return word_list"
   ]
  },
  {
   "cell_type": "code",
   "execution_count": 6,
   "metadata": {},
   "outputs": [],
   "source": [
    "# takes around 30s\n",
    "l_words = []\n",
    "for i in range(len(scraped)):\n",
    "    l_words.append(get_words(scraped.iloc[i]['Text']))"
   ]
  },
  {
   "cell_type": "code",
   "execution_count": 7,
   "metadata": {},
   "outputs": [
    {
     "name": "stdout",
     "output_type": "stream",
     "text": [
      "Biden Jr listen born November American politician current president United\n"
     ]
    }
   ],
   "source": [
    "print(*l_words[0][:10])"
   ]
  },
  {
   "cell_type": "code",
   "execution_count": 8,
   "metadata": {},
   "outputs": [],
   "source": [
    "fd_list = []\n",
    "for words in l_words:\n",
    "    fd = FreqDist(words)\n",
    "    fd_list.append(fd)"
   ]
  },
  {
   "cell_type": "code",
   "execution_count": 9,
   "metadata": {},
   "outputs": [
    {
     "name": "stdout",
     "output_type": "stream",
     "text": [
      "    Biden        US       Act president    Senate  American      vice     Obama  Delaware      Plan \n",
      "       10         7         7         6         6         5         4         4         4         4 \n",
      "   Biden   family Scranton       Sr     year     born      old    Irish  English   father \n",
      "      14        5        3        3        3        2        2        2        2        2 \n",
      "     Biden        law Republican University   Syracuse          R   Delaware    support        run  deferment \n",
      "        15          7          6          4          3          3          3          3          3          3 \n",
      "     Boggs      Biden   Delaware   campaign       face   election     defeat Republican  incumbent          J \n",
      "         3          2          2          2          2          2          1          1          1          1 \n",
      "   Biden   driver   Neilia accident    truck     late      say   family December     week \n",
      "       5        3        2        2        2        2        2        2        1        1 \n"
     ]
    }
   ],
   "source": [
    "for fd in fd_list[:5]:\n",
    "    fd.tabulate(10)"
   ]
  },
  {
   "cell_type": "code",
   "execution_count": 10,
   "metadata": {},
   "outputs": [],
   "source": [
    "scores = []\n",
    "for words in l_words:\n",
    "    sia = SentimentIntensityAnalyzer()\n",
    "    sia_scores = sia.polarity_scores(' '.join(words))\n",
    "    scores.append(sia_scores)"
   ]
  },
  {
   "cell_type": "code",
   "execution_count": 11,
   "metadata": {},
   "outputs": [
    {
     "data": {
      "text/plain": [
       "[{'neg': 0.11, 'neu': 0.761, 'pos': 0.13, 'compound': 0.6705},\n",
       " {'neg': 0.055, 'neu': 0.839, 'pos': 0.106, 'compound': 0.8519},\n",
       " {'neg': 0.135, 'neu': 0.766, 'pos': 0.099, 'compound': -0.9136},\n",
       " {'neg': 0.067, 'neu': 0.699, 'pos': 0.233, 'compound': 0.936},\n",
       " {'neg': 0.354, 'neu': 0.552, 'pos': 0.094, 'compound': -0.9855}]"
      ]
     },
     "execution_count": 11,
     "metadata": {},
     "output_type": "execute_result"
    }
   ],
   "source": [
    "# compound scoreS range from -1 to 1\n",
    "scores[:5]"
   ]
  },
  {
   "cell_type": "code",
   "execution_count": 12,
   "metadata": {},
   "outputs": [
    {
     "data": {
      "text/plain": [
       "'In 1972, Biden defeated Republican incumbent J. Caleb Boggs to become the junior U.S. senator from Delaware. He was the only Democrat willing to challenge Boggs, and with minimal campaign funds, he was given no chance of winning. Family members managed and staffed the campaign, which relied on meeting voters face-to-face and hand-distributing position papers, an approach made feasible by Delaware\\'s small size. He received help from the AFL–CIO and Democratic pollster Patrick Caddell. His platform focused on the environment, withdrawal from Vietnam, civil rights, mass transit, equitable taxation, health care, and public dissatisfaction with \"politics as usual\". A few months before the election, Biden trailed Boggs by almost thirty percentage points, but his energy, attractive young family, and ability to connect with voters\\' emotions worked to his advantage and he won with 50.5 percent of the vote. At the time of his election, he was 29 years old, but he reached the constitutionally required age of 30 before he was sworn in as Senator.'"
      ]
     },
     "execution_count": 12,
     "metadata": {},
     "output_type": "execute_result"
    }
   ],
   "source": [
    "# positive example\n",
    "scraped.Text[3]"
   ]
  },
  {
   "cell_type": "code",
   "execution_count": 13,
   "metadata": {},
   "outputs": [
    {
     "data": {
      "text/plain": [
       "'On December 18, 1972, a few weeks after Biden was elected senator, his wife Neilia and one-year-old daughter Naomi were killed in an automobile accident while Christmas shopping in Hockessin, Delaware. Neilia\\'s station wagon was hit by a semi-trailer truck as she pulled out from an intersection. Their sons Beau (aged\\xa03) and Hunter (aged\\xa02) were taken to the hospital in fair condition, Beau with a broken leg and other wounds and Hunter with a minor skull fracture and other head injuries. Biden considered resigning to care for them, but Senate Majority Leader Mike Mansfield persuaded him not to. Years later, Biden said he believed the truck driver had been drinking before the crash, but was never charged, and the driver\\'s family said the deaths haunted him until he died in 1999. Biden later apologized to the driver\\'s family. The accident filled Biden with anger and religious doubt. He wrote that he \"felt God had played a horrible trick\" on him, and he had trouble focusing on work.'"
      ]
     },
     "execution_count": 13,
     "metadata": {},
     "output_type": "execute_result"
    }
   ],
   "source": [
    "# negative example\n",
    "scraped.Text[4]"
   ]
  },
  {
   "cell_type": "code",
   "execution_count": 14,
   "metadata": {},
   "outputs": [
    {
     "data": {
      "text/html": [
       "<div>\n",
       "<style scoped>\n",
       "    .dataframe tbody tr th:only-of-type {\n",
       "        vertical-align: middle;\n",
       "    }\n",
       "\n",
       "    .dataframe tbody tr th {\n",
       "        vertical-align: top;\n",
       "    }\n",
       "\n",
       "    .dataframe thead th {\n",
       "        text-align: right;\n",
       "    }\n",
       "</style>\n",
       "<table border=\"1\" class=\"dataframe\">\n",
       "  <thead>\n",
       "    <tr style=\"text-align: right;\">\n",
       "      <th></th>\n",
       "      <th>President</th>\n",
       "      <th>Order</th>\n",
       "      <th>Headline</th>\n",
       "      <th>Text</th>\n",
       "      <th>Score</th>\n",
       "    </tr>\n",
       "  </thead>\n",
       "  <tbody>\n",
       "    <tr>\n",
       "      <th>0</th>\n",
       "      <td>Joe Biden</td>\n",
       "      <td>46</td>\n",
       "      <td>Introduction</td>\n",
       "      <td>Joseph Robinette Biden Jr. (/ˈbaɪdən/ (listen)...</td>\n",
       "      <td>0.6705</td>\n",
       "    </tr>\n",
       "    <tr>\n",
       "      <th>1</th>\n",
       "      <td>Joe Biden</td>\n",
       "      <td>46</td>\n",
       "      <td>Early life (1942–1965)</td>\n",
       "      <td>Joseph Robinette Biden Jr. was born on Novembe...</td>\n",
       "      <td>0.8519</td>\n",
       "    </tr>\n",
       "    <tr>\n",
       "      <th>2</th>\n",
       "      <td>Joe Biden</td>\n",
       "      <td>46</td>\n",
       "      <td>Marriages, law school, and early career (1966–...</td>\n",
       "      <td>On August 27, 1966, Biden married Neilia Hunte...</td>\n",
       "      <td>-0.9136</td>\n",
       "    </tr>\n",
       "    <tr>\n",
       "      <th>3</th>\n",
       "      <td>Joe Biden</td>\n",
       "      <td>46</td>\n",
       "      <td>1972 U.S. Senate campaign in Delaware</td>\n",
       "      <td>In 1972, Biden defeated Republican incumbent J...</td>\n",
       "      <td>0.9360</td>\n",
       "    </tr>\n",
       "    <tr>\n",
       "      <th>4</th>\n",
       "      <td>Joe Biden</td>\n",
       "      <td>46</td>\n",
       "      <td>Death of wife and daughter</td>\n",
       "      <td>On December 18, 1972, a few weeks after Biden ...</td>\n",
       "      <td>-0.9855</td>\n",
       "    </tr>\n",
       "    <tr>\n",
       "      <th>...</th>\n",
       "      <td>...</td>\n",
       "      <td>...</td>\n",
       "      <td>...</td>\n",
       "      <td>...</td>\n",
       "      <td>...</td>\n",
       "    </tr>\n",
       "    <tr>\n",
       "      <th>645</th>\n",
       "      <td>Franklin D. Roosevelt</td>\n",
       "      <td>32</td>\n",
       "      <td>Lynching</td>\n",
       "      <td>Roosevelt stopped short of joining NAACP leade...</td>\n",
       "      <td>0.7650</td>\n",
       "    </tr>\n",
       "    <tr>\n",
       "      <th>646</th>\n",
       "      <td>Franklin D. Roosevelt</td>\n",
       "      <td>32</td>\n",
       "      <td>Japanese-Americans</td>\n",
       "      <td>The attack on Pearl Harbor raised concerns in ...</td>\n",
       "      <td>-0.9729</td>\n",
       "    </tr>\n",
       "    <tr>\n",
       "      <th>647</th>\n",
       "      <td>Franklin D. Roosevelt</td>\n",
       "      <td>32</td>\n",
       "      <td>Jews</td>\n",
       "      <td>There is controversy among historians about Ro...</td>\n",
       "      <td>-0.9840</td>\n",
       "    </tr>\n",
       "    <tr>\n",
       "      <th>648</th>\n",
       "      <td>Franklin D. Roosevelt</td>\n",
       "      <td>32</td>\n",
       "      <td>Historical reputation</td>\n",
       "      <td>Roosevelt is widely considered to be one of th...</td>\n",
       "      <td>0.9292</td>\n",
       "    </tr>\n",
       "    <tr>\n",
       "      <th>649</th>\n",
       "      <td>Franklin D. Roosevelt</td>\n",
       "      <td>32</td>\n",
       "      <td>Memorials</td>\n",
       "      <td>Roosevelt's home in Hyde Park is now a Nationa...</td>\n",
       "      <td>-0.7783</td>\n",
       "    </tr>\n",
       "  </tbody>\n",
       "</table>\n",
       "<p>650 rows × 5 columns</p>\n",
       "</div>"
      ],
      "text/plain": [
       "                 President  Order  \\\n",
       "0                Joe Biden     46   \n",
       "1                Joe Biden     46   \n",
       "2                Joe Biden     46   \n",
       "3                Joe Biden     46   \n",
       "4                Joe Biden     46   \n",
       "..                     ...    ...   \n",
       "645  Franklin D. Roosevelt     32   \n",
       "646  Franklin D. Roosevelt     32   \n",
       "647  Franklin D. Roosevelt     32   \n",
       "648  Franklin D. Roosevelt     32   \n",
       "649  Franklin D. Roosevelt     32   \n",
       "\n",
       "                                              Headline  \\\n",
       "0                                         Introduction   \n",
       "1                               Early life (1942–1965)   \n",
       "2    Marriages, law school, and early career (1966–...   \n",
       "3                1972 U.S. Senate campaign in Delaware   \n",
       "4                           Death of wife and daughter   \n",
       "..                                                 ...   \n",
       "645                                           Lynching   \n",
       "646                                 Japanese-Americans   \n",
       "647                                               Jews   \n",
       "648                              Historical reputation   \n",
       "649                                          Memorials   \n",
       "\n",
       "                                                  Text   Score  \n",
       "0    Joseph Robinette Biden Jr. (/ˈbaɪdən/ (listen)...  0.6705  \n",
       "1    Joseph Robinette Biden Jr. was born on Novembe...  0.8519  \n",
       "2    On August 27, 1966, Biden married Neilia Hunte... -0.9136  \n",
       "3    In 1972, Biden defeated Republican incumbent J...  0.9360  \n",
       "4    On December 18, 1972, a few weeks after Biden ... -0.9855  \n",
       "..                                                 ...     ...  \n",
       "645  Roosevelt stopped short of joining NAACP leade...  0.7650  \n",
       "646  The attack on Pearl Harbor raised concerns in ... -0.9729  \n",
       "647  There is controversy among historians about Ro... -0.9840  \n",
       "648  Roosevelt is widely considered to be one of th...  0.9292  \n",
       "649  Roosevelt's home in Hyde Park is now a Nationa... -0.7783  \n",
       "\n",
       "[650 rows x 5 columns]"
      ]
     },
     "execution_count": 14,
     "metadata": {},
     "output_type": "execute_result"
    }
   ],
   "source": [
    "scraped_w_scores = scraped.copy()\n",
    "scraped_w_scores['Score'] = [s['compound'] for s in scores]\n",
    "scraped_w_scores"
   ]
  },
  {
   "cell_type": "code",
   "execution_count": 15,
   "metadata": {},
   "outputs": [],
   "source": [
    "scraped_w_scores.to_csv('president_wiki_scraped_scored.csv', index=False)"
   ]
  },
  {
   "cell_type": "markdown",
   "metadata": {},
   "source": [
    "references:\n",
    "* https://realpython.com/python-nltk-sentiment-analysis/\n",
    "* https://www.digitalocean.com/community/tutorials/how-to-perform-sentiment-analysis-in-python-3-using-the-natural-language-toolkit-nltk\n"
   ]
  },
  {
   "cell_type": "code",
   "execution_count": null,
   "metadata": {},
   "outputs": [],
   "source": []
  }
 ],
 "metadata": {
  "kernelspec": {
   "display_name": "Python 3.8.10 64-bit",
   "language": "python",
   "name": "python3"
  },
  "language_info": {
   "codemirror_mode": {
    "name": "ipython",
    "version": 3
   },
   "file_extension": ".py",
   "mimetype": "text/x-python",
   "name": "python",
   "nbconvert_exporter": "python",
   "pygments_lexer": "ipython3",
   "version": "3.8.10"
  },
  "orig_nbformat": 4,
  "vscode": {
   "interpreter": {
    "hash": "570feb405e2e27c949193ac68f46852414290d515b0ba6e5d90d076ed2284471"
   }
  }
 },
 "nbformat": 4,
 "nbformat_minor": 2
}
