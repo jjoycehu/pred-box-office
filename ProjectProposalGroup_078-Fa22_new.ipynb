{
 "cells": [
  {
   "cell_type": "markdown",
   "metadata": {},
   "source": [
    "# COGS 108 - Final Project Proposal"
   ]
  },
  {
   "cell_type": "markdown",
   "metadata": {},
   "source": [
    "# Names\n",
    "\n",
    "- Jonathan Cheung\n",
    "- Joyce Hu\n",
    "- Joshua Chuang\n",
    "- Ester Tsai\n",
    "- Sam Wong"
   ]
  },
  {
   "cell_type": "markdown",
   "metadata": {},
   "source": [
    "# Research Question"
   ]
  },
  {
   "cell_type": "markdown",
   "metadata": {},
   "source": [
    "Which factor, among factors such as director, genre, and sentiment analysis of the plot, has the highest correlation with American film's box office sale?"
   ]
  },
  {
   "cell_type": "markdown",
   "metadata": {},
   "source": [
    "## Background and Prior Work"
   ]
  },
  {
   "cell_type": "markdown",
   "metadata": {},
   "source": [
    "https://journals.plos.org/plosone/article?id=10.1371/journal.pone.0071226\n",
    "\n",
    "https://www.researchgate.net/publication/284976022_Predicting_movie_Box-office_revenues_by_exploiting_large-scale_social_media_content\n",
    "\n",
    "https://dl.acm.org/doi/10.1145/3457784.3457793\n",
    "\n",
    "https://ejmcm.com/pdf_3120_ad6830b2d3ad1e2d78cf1dc46d1ef9f5.html\n",
    "\n",
    "This paper will explore how history has shaped the current generation’s perception of previous presidents through comparing the sentiment of Wikipedia pages to the presidents’ approval rating during their time in office. From our research, this appears to be a novel topic. However, there have been many studies conducted on both sentiment analysis regarding presidents and Wikipedia pages, which may inform our understanding of the topic.\n",
    "Sentiment analysis, which is the use of natural language processing and text analysis to quantify affective and subjective texts, was utilized during the 2020 presidential election to predict favorable presidential candidates. Researchers analyzed tweets from presidential candidates as a way to gauge candidate popularity[^1] . Much of the work is done by utilizing different classifiers on tweets for both presidential candidates. Afterwards researchers compared the analysis result with the results of the 2020 presidential election, and have found that social media posts can be used to gauge general opinions due to the similarities in positive and negative sentiments and final vote results. The outcomes of the studies illustrate the utility of sentiment analysis in understanding public opinion. \n",
    "\n",
    "\n",
    "Another study conducted sentiment analysis to explore Wikipedia neutrality[^2] . Researchers ran sentiment analysis on various war-related articles written in different languages to see if certain languages report the events with more negativity than others. The study concluded that Wikipedia is biased in the context of war-related articles, probably because different countries are affected by war in different ways. This study shows how there may be potential bias in our topic because Wikipedia authors are not representative of the general public and may hold distinct personal experiences that influence how they write about presidents. \n",
    "\n",
    "[^1]: Ethan Xia, Han Yue, and Hongfu Liu. 2021. Tweet Sentiment Analysis of the 2020 U.S. Presidential Election. In Companion Proceedings of the Web Conference 2021 (WWW '21). Association for Computing Machinery, New York, NY, USA, 367–371. https://doi.org/10.1145/3442442.3452322\n",
    "\n",
    "[^2]: Is Wikipedia Really Neutral? A Sentiment Perspective Study of War-related Wikipedia Articles since 1945(https://aclanthology.org/Y15-1019) (Zhou et al., PACLIC 2015)\n",
    "\n",
    "\n",
    "\n",
    "\n"
   ]
  },
  {
   "cell_type": "markdown",
   "metadata": {},
   "source": [
    "# Hypothesis\n"
   ]
  },
  {
   "cell_type": "markdown",
   "metadata": {},
   "source": [
    "We hypothesize that American films with more extreme sentiment values have a higher association with higher box office sales than other film characteristics because viewers are more enticed by dramatic film plots. \n"
   ]
  },
  {
   "cell_type": "markdown",
   "metadata": {},
   "source": [
    "# Data"
   ]
  },
  {
   "cell_type": "markdown",
   "metadata": {},
   "source": [
    "- Dataset Name: \"American Films.csv\"\n",
    "- Link to the dataset: Web scraped from Wikipedia, so there is no link\n",
    "- Number of observations: 2521\n",
    "\n",
    "This dataset was scraped from the Wikipeida page \"American Films by Genre\" (https://en.wikipedia.org/wiki/Category:American_films_by_genre). It contains the variables 'Film name', 'Genre', 'Plot', 'Directed by', 'Written by', 'Story by', 'Produced by', 'Starring', 'Cinematography', 'Edited by', 'Music by', 'Production company', 'Distributed by', 'Duration (min)', 'Release year', 'Budget (mil dollar)', 'Box office (mil dollar)', 'VADER Sentiment', 'TextBlob Subjectivity', and 'TextBlob Polarity'. It has been filtered to include only the films that have vaild box office values.\n"
   ]
  },
  {
   "cell_type": "markdown",
   "metadata": {},
   "source": [
    "# Ethics & Privacy"
   ]
  },
  {
   "cell_type": "markdown",
   "metadata": {},
   "source": [
    "Our question does not seem to imply a connection between approval rating and sentiment of the wikipedia pages. Since our question and hypothesis involve public average polling of presidential approval ratings, an ethical concern that we considered was how the polling data was collected and whether it contained any biases. Our source of average presidential approval ratings is from Gallup which documents their polling process including accounted for any biases and underrepresented religious, racial, age groups, etc. This can prevent undercounting any particular populations which could have particularly strong or negative views of a president. Furthermore, Gallup interviewed people in all 50 states in the country including landline and cellphone alongside different language options. In addition, these methods were implemented when Gallup began their polling in 2008 but historical data is much less defined the farther back in time you search. Though this does not negate the presence of any bias of polling error, the fact that we are investigating polling averages does somewhat alleviate inaccuracies that may come from specific biased or skewed polls.\n",
    "\n",
    "In addition to our use of Gallup polls, we run sentiment analysis on the wikipedia pages of the respective polled presidents. A potential bias can come from the very design of wikipedia; Since it is a public website, anyone with an account can edit any page which can lead to certain pages being edited to make said individual look better or worse. This can be especially prevalent on polarizing presidents, especially ones who have served recently within the 21st century. However, due to the large web traffic wikipedia usually gets, even more for important figures such as presidents, their pages are constantly updated with recent information which can mitigate the effects of biased editors. With respect to presidents who served before our lifetimes, most the editors are probably historians or people with a particularly keen interest in the domain of political history who do have a thorough perspective - In addition, since those former presidents’ terms have long ended, there may be less incentive for biased partisans to edit their wikipedia pages just to artificially inflate or slander their pages’ contents.\n",
    "\n",
    "We plan to address any more biases in our data sources by including sentiment analysis on not only wikipedia, but other reputable websites on presidential history which - the sentiment scores of multiple sources could be more useful in finding (potential) correlation to approval ratings. In all of our polling data used, there does not seem to be any privacy ethical issues raised because the people who are polled answer the surveys/interviews knowing that they are being used for creating polls.\n",
    "\n",
    "\n",
    "Ethical Considerations:\n",
    "1. THE QUESTION\n",
    "\n",
    "    The scope of our investigation includes average polling data from wikipedia as well as the wikipedia pages of all US presidents from FDR to JRB. We are investigating correlation between sentiment of the article and the respective president's average approval rating.\n",
    "\n",
    "2. THE IMPLICATIONS\n",
    "\n",
    "    The people involved include the presidents in question as well as the polled individuals for approval ratings. The people who edited the wikipedia articles are also affected as their writing is the basis of our sentiment analysis.\n",
    "\n",
    "3. THE DATA\n",
    "\n",
    "    The data is public and readily available on wikipedia as well as the corresponding gallup polls. Older datasets on approval rating may have used different polling methods which is a source for bias but there is little information elaborating on historical polling methods.\n",
    "\n",
    "4. INFORMED CONSENT \n",
    "\n",
    "    People who answer polling surveys or interviews do so with the knowledge that their data is used to create a poll. This is also outlined in Gallup’s page on how they conduct polls.\n",
    "\n",
    "5. PRIVACY \n",
    "\n",
    "    Landline and cellphones are called by a random algorithm, where the information collected on on the subject matter of the poll is general demographic data such as age, gender, race, and region. Personal identifiable information such as names or addresses are not collected, thus protecting the privacy of survey respondees.\n",
    "\n",
    "6. EVALUATION  \n",
    "\n",
    "    We are going to perform sentiment analysis on wikipedia pages on presidents in order to attain a sentiment “score” to compare to average approval ratings.\n",
    "\n",
    "7. ANALYSIS\n",
    "\n",
    "    Our question is one that asks of the existence of correlation, thus our conclusion would be investigating such correlation.\n",
    "\n",
    "8. TRANSPARENCY & APPEAL  \n",
    "\n",
    "    Our model and steps are clearly outlined in such a way as it is not a black box. We are not suggesting that sentiment scores would “predict” approval ratings or vice versa.\n",
    "\n",
    "9. CONTINUOUS MONITORING\n",
    "\n",
    "    Since a vast majority of our data is on past data, our results or conclusions are unlikely to dramatically change save for large swings in approval for the incumbent. However, since the pages of historical figures are constantly changing, running the sentiment analysis regularly would give us a clearer picture of what our investigation seeks to conclude.\n"
   ]
  },
  {
   "cell_type": "markdown",
   "metadata": {},
   "source": [
    "# Team Expectations "
   ]
  },
  {
   "cell_type": "markdown",
   "metadata": {},
   "source": [
    "\n",
    "* **Everyone completes their designated tasks on time / ahead of time.**\n",
    "* **If someone pinged you on messenger, reply in a timely manner**\n",
    "* **Show up to all meetings on time. Should someone miss a meeting they should notify other team members through messenger.** \n",
    "* **Communicate if one needs help finishing or completing a task**\n"
   ]
  },
  {
   "cell_type": "markdown",
   "metadata": {},
   "source": [
    "# Project Timeline Proposal"
   ]
  },
  {
   "cell_type": "markdown",
   "metadata": {},
   "source": [
    "\n",
    "| Meeting Date  | Meeting Time| Completed Before Meeting  | Discuss at Meeting |\n",
    "|---|---|---|---|\n",
    "| 10/27 |  4:30 PM | Finish first form of Wikipedia web scraping (Ester), Data cleaning (Ester) | How to improve our scraped dataset (any missing variables?) | \n",
    "| 11/03  |  4:30 PM |  Sentiment analysis (Ester, Jonathan, Joshua, Joyce) | Finalize Checkpoint #1: Data; Assign group members to lead each specific EDA part; Checkpoint #1: Data    DUE Mon 11/7 | \n",
    "| 11/10  | 4:30 PM  | Start EDA (Everyone), rewrite new proposal  |Discuss Wrangling and possible analytical approaches; any improvements or additions to EDA   |\n",
    "| 11/17  | 4:30 PM  | Import & Wrangle Data; Finalize wrangling/EDA  | Finalize wrangling/EDA; Discuss and start Analysis Plan; Checkpoint #2: EDA   DUE Mon 11/21 |\n",
    "| 11/24  | 4:30PM  | Begin Analysis | Discuss/edit Analysis; assign group member tasks for final report, video slides, and video commentary |\n",
    "| 12/01  | 4:30 PM  | Complete analysis; Draft results/conclusion/discussion/video/slides | Discuss/edit full project, finalize any last changes needed |\n",
    "| 12/09 | Before 11:59 PM  | NA | Turn in Final Project & Group Project Surveys |"
   ]
  }
 ],
 "metadata": {
  "kernelspec": {
   "display_name": "Python 3.8.10 64-bit",
   "language": "python",
   "name": "python3"
  },
  "language_info": {
   "codemirror_mode": {
    "name": "ipython",
    "version": 3
   },
   "file_extension": ".py",
   "mimetype": "text/x-python",
   "name": "python",
   "nbconvert_exporter": "python",
   "pygments_lexer": "ipython3",
   "version": "3.8.10"
  },
  "vscode": {
   "interpreter": {
    "hash": "570feb405e2e27c949193ac68f46852414290d515b0ba6e5d90d076ed2284471"
   }
  }
 },
 "nbformat": 4,
 "nbformat_minor": 2
}
