{
 "cells": [
  {
   "cell_type": "markdown",
   "metadata": {},
   "source": [
    "# COGS 108 - Final Project Proposal"
   ]
  },
  {
   "cell_type": "markdown",
   "metadata": {},
   "source": [
    "# Names\n",
    "\n",
    "- Jonathan Cheung\n",
    "- Joyce Hu\n",
    "- Joshua Chuang\n",
    "- Ester Tsai\n",
    "- Sam Wong"
   ]
  },
  {
   "cell_type": "markdown",
   "metadata": {},
   "source": [
    "# Research Question"
   ]
  },
  {
   "cell_type": "markdown",
   "metadata": {},
   "source": [
    "#### Does the sentiment of a US president’s Wikipedia page (based on a sentiment score) correlate to their average presidential approval ratings (according to Gallup poll)? (FDR to Biden)\n",
    "\n",
    "\n"
   ]
  },
  {
   "cell_type": "markdown",
   "metadata": {},
   "source": [
    "## Background and Prior Work"
   ]
  },
  {
   "cell_type": "markdown",
   "metadata": {},
   "source": [
    "\n",
    "- Include a general introduction to your topic\n",
    "- Include explanation of what work has been done previously\n",
    "- Include citations or links to previous work\n",
    "\n",
    "This section will present the background and context of your topic and question in a few paragraphs. Include a general introduction to your topic and then describe what information you currently know about the topic after doing your initial research. Include references to other projects who have asked similar questions or approached similar problems. Explain what others have learned in their projects.\n",
    "\n",
    "Find some relevant prior work, and reference those sources, summarizing what each did and what they learned. Even if you think you have a totally novel question, find the most similar prior work that you can and discuss how it relates to your project.\n",
    "\n",
    "References can be research publications, but they need not be. Blogs, GitHub repositories, company websites, etc., are all viable references if they are relevant to your project. It must be clear which information comes from which references. (2-3 paragraphs, including at least 2 references)\n",
    "\n",
    " **Use inline citation through Markdown footnotes to specify which references support which statements** \n",
    "\n",
    "For example: After government genocide in the 20th century, real birds were replaced with surveillance drones designed to look just like birds[^lorenz]. \n",
    "Use a minimum of 2 or 3 citations, but we prefer more[^admonish]. You need enough to fully explain and back up important facts. \n",
    "\n",
    "[^lorenz]: Lorenz, T. (9 Dec 2021) Birds Aren’t Real, or Are They? Inside a Gen Z Conspiracy Theory. *The New York Times*. https://www.nytimes.com/2021/12/09/technology/birds-arent-real-gen-z-misinformation.html \n",
    "[^admonish]: Also refs should be important to the background, not some randomly chosen vaguely related stuff. Include a web link if possible in refs as above.\n"
   ]
  },
  {
   "cell_type": "markdown",
   "metadata": {},
   "source": [
    "# Hypothesis\n"
   ]
  },
  {
   "cell_type": "markdown",
   "metadata": {},
   "source": [
    "In general, Presidents with **higher average approval ratings** over their presidency will be associated with Wikipedia pages with more **positive sentiment**. Higher approval ratings during the presidency tend to generate positive public opinions of the President in future generations. \n"
   ]
  },
  {
   "cell_type": "markdown",
   "metadata": {},
   "source": [
    "# Data"
   ]
  },
  {
   "cell_type": "markdown",
   "metadata": {},
   "source": [
    "Our team will need at least two kinds of datasets: one for presidential approval ratings, one for the sentiment of each president’s Wikipedia page. \n",
    "\n",
    "Ideally, the presidential approval ratings dataset includes as many presidents as possible and is from a credible source. We can scrape the Wikipedia page (https://en.wikipedia.org/wiki/United_States_presidential_approval_rating) for its table on “the Historical Gallup Poll approval highs and lows for each president since 1937”, which includes the approval ratings of the fifteen most recent presidents (FDR to Biden). This dataset will provide us with key variables such as President and Approval Average. Each row/observation will be a president, while the columns contain variables related to each president. This dataset will have 15 rows. We choose to source our data from Gallup Poll because it is the most reliable and credible source for presidential polls. \n",
    "\n",
    "As for the sentiment analysis of each president’s Wikipedia page, our team plans to first web scrape each of the fifteen presidents’ Wikipedia page using Python requests and Beautifulsoup, then perform sentiment analysis to get the polarity of the text using Python libraries such as BERT, TextBlob, or spaCy. We want to perform the sentiment analysis separately for each section in a Wikipedia article (e.g. Intro, Early Life, Presidency) to take into account the differences in the nature of each text. Each row/observation will be a section in a Wikipedia page, so we will have an estimated total of \n",
    "15 presidents * an average of 50 sections per president  = around 750 rows in the dataset. \n",
    "\n",
    "In addition to sentiment analysis, we can also perform other text-related tasks such as word cloud and TF-IDF, then explore the relationship between presidential approval rating and the most popular words on each Wikipedia page.\n",
    "\n"
   ]
  },
  {
   "cell_type": "markdown",
   "metadata": {},
   "source": [
    "# Ethics & Privacy"
   ]
  },
  {
   "cell_type": "markdown",
   "metadata": {},
   "source": [
    "    Our question does not seem to imply a connection between approval rating and sentiment of the wikipedia pages. Since our question and hypothesis involve public average polling of presidential approval ratings, an ethical concern that we considered was how the polling data was collected and whether it contained any biases. Our source of average presidential approval ratings is from Gallup which documents their polling process including accounted for any biases and underrepresented religious, racial, age groups, etc. This can prevent undercounting any particular populations which could have particularly strong or negative views of a president. Furthermore, Gallup interviewed people in all 50 states in the country including landline and cellphone alongside different language options. In addition, these methods were implemented when Gallup began their polling in 2008 but historical data is much less defined the farther back in time you search. Though this does not negate the presence of any bias of polling error, the fact that we are investigating polling averages does somewhat alleviate inaccuracies that may come from specific biased or skewed polls.\n",
    "\n",
    "    In addition to our use of Gallup polls, we run sentiment analysis on the wikipedia pages of the respective polled presidents. A potential bias can come from the very design of wikipedia; Since it is a public website, anyone with an account can edit any page which can lead to certain pages being edited to make said individual look better or worse. This can be especially prevalent on polarizing presidents, especially ones who have served recently within the 21st century. However, due to the large web traffic wikipedia usually gets, even more for important figures such as presidents, their pages are constantly updated with recent information which can mitigate the effects of biased editors. With respect to presidents who served before our lifetimes, most the editors are probably historians or people with a particularly keen interest in the domain of political history who do have a thorough perspective - In addition, since those former presidents’ terms have long ended, there may be less incentive for biased partisans to edit their wikipedia pages just to artificially inflate or slander their pages’ contents.\n",
    "\n",
    "    We plan to address any more biases in our data sources by including sentiment analysis on not only wikipedia, but other reputable websites on presidential history which - the sentiment scores of multiple sources could be more useful in finding (potential) correlation to approval ratings. In all of our polling data used, there does not seem to be any privacy ethical issues raised because the people who are polled answer the surveys/interviews knowing that they are being used for creating polls.\n",
    "\n",
    "Ethical Considerations:\n",
    "1. THE QUESTION\n",
    "\n",
    "    The scope of our investigation includes average polling data from wikipedia as well as the wikipedia pages of all US presidents from FDR to JRB. We are investigating correlation between sentiment of the article and the respective president's average approval rating.\n",
    "\n",
    "2. THE IMPLICATIONS\n",
    "\n",
    "    The people involved include the presidents in question as well as the polled individuals for approval ratings. The people who edited the wikipedia articles are also affected as their writing is the basis of our sentiment analysis.\n",
    "\n",
    "3. THE DATA\n",
    "\n",
    "    The data is public and readily available on wikipedia as well as the corresponding gallup polls. Older datasets on approval rating may have used different polling methods which is a source for bias but there is little information elaborating on historical polling methods.\n",
    "\n",
    "4. INFORMED CONSENT \n",
    "\n",
    "    People who answer polling surveys or interviews do so with the knowledge that their data is used to create a poll. This is also outlined in Gallup’s page on how they conduct polls.\n",
    "\n",
    "5. PRIVACY \n",
    "\n",
    "    Landline and cellphones are called by a random algorithm, where the information collected on on the subject matter of the poll is general demographic data such as age, gender, race, and region. Personal identifiable information such as names or addresses are not collected, thus protecting the privacy of survey respondees.\n",
    "\n",
    "6. EVALUATION  \n",
    "\n",
    "    We are going to perform sentiment analysis on wikipedia pages on presidents in order to attain a sentiment “score” to compare to average approval ratings.\n",
    "\n",
    "7. ANALYSIS\n",
    "\n",
    "    Our question is one that asks of the existence of correlation, thus our conclusion would be investigating such correlation.\n",
    "\n",
    "8. TRANSPARENCY & APPEAL  \n",
    "\n",
    "    Our model and steps are clearly outlined in such a way as it is not a black box. We are not suggesting that sentiment scores would “predict” approval ratings or vice versa.\n",
    "\n",
    "9. CONTINUOUS MONITORING\n",
    "\n",
    "    Since a vast majority of our data is on past data, our results or conclusions are unlikely to dramatically change save for large swings in approval for the incumbent. However, since the pages of historical figures are constantly changing, running the sentiment analysis regularly would give us a clearer picture of what our investigation seeks to conclude.\n"
   ]
  },
  {
   "cell_type": "markdown",
   "metadata": {},
   "source": [
    "# Team Expectations "
   ]
  },
  {
   "cell_type": "markdown",
   "metadata": {},
   "source": [
    "\n",
    "Read over the [COGS108 Team Policies](https://github.com/COGS108/Projects/blob/master/COGS108_TeamPolicies.md) individually. Then, include your group’s expectations of one another for successful completion of your COGS108 project below. Discuss and agree on what all of your expectations are. Discuss how your team will communicate throughout the quarter and consider how you will communicate respectfully should conflicts arise. By including each member’s name above and by adding their name to the submission, you are indicating that you have read the COGS108 Team Policies, accept your team’s expectations below, and have every intention to fulfill them. These expectations are for your team’s use and benefit — they won’t be graded for their details.\n",
    "\n",
    "* *Team Expectation 1*\n",
    "* *Team Expectation 2*\n",
    "* *Team Expecation 3*\n",
    "* ..."
   ]
  },
  {
   "cell_type": "markdown",
   "metadata": {},
   "source": [
    "# Project Timeline Proposal"
   ]
  },
  {
   "cell_type": "markdown",
   "metadata": {},
   "source": [
    "Specify your team's specific project timeline. An example timeline has been provided. Changes the dates, times, names, and details to fit your group's plan.\n",
    "\n",
    "If you think you will need any special resources or training outside what we have covered in COGS 108 to solve your problem, then your proposal should state these clearly. For example, if you have selected a problem that involves implementing multiple neural networks, please state this so we can make sure you know what you’re doing and so we can point you to resources you will need to implement your project. Note that you are not required to use outside methods.\n",
    "\n",
    "\n",
    "\n",
    "| Meeting Date  | Meeting Time| Completed Before Meeting  | Discuss at Meeting |\n",
    "|---|---|---|---|\n",
    "| 1/20  |  1 PM | Read & Think about COGS 108 expectations; brainstorm topics/questions  | Determine best form of communication; Discuss and decide on final project topic; discuss hypothesis; begin background research | \n",
    "| 1/26  |  10 AM |  Do background research on topic | Discuss ideal dataset(s) and ethics; draft project proposal | \n",
    "| 2/1  | 10 AM  | Edit, finalize, and submit proposal; Search for datasets  | Discuss Wrangling and possible analytical approaches; Assign group members to lead each specific part   |\n",
    "| 2/14  | 6 PM  | Import & Wrangle Data (Ant Man); EDA (Hulk) | Review/Edit wrangling/EDA; Discuss Analysis Plan   |\n",
    "| 2/23  | 12 PM  | Finalize wrangling/EDA; Begin Analysis (Iron Man; Thor) | Discuss/edit Analysis; Complete project check-in |\n",
    "| 3/13  | 12 PM  | Complete analysis; Draft results/conclusion/discussion (Wasp)| Discuss/edit full project |\n",
    "| 3/19  | Before 11:59 PM  | NA | Turn in Final Project & Group Project Surveys |"
   ]
  },
  {
   "cell_type": "code",
   "execution_count": null,
   "metadata": {},
   "outputs": [],
   "source": []
  }
 ],
 "metadata": {
  "kernelspec": {
   "display_name": "Python 3.10.7 64-bit",
   "language": "python",
   "name": "python3"
  },
  "language_info": {
   "codemirror_mode": {
    "name": "ipython",
    "version": 3
   },
   "file_extension": ".py",
   "mimetype": "text/x-python",
   "name": "python",
   "nbconvert_exporter": "python",
   "pygments_lexer": "ipython3",
   "version": "3.10.7"
  },
  "vscode": {
   "interpreter": {
    "hash": "13c497b5b0a9ffd1ed9086e1e63e56284cb92e104af784c89fd50b1185ee87a8"
   }
  }
 },
 "nbformat": 4,
 "nbformat_minor": 2
}
