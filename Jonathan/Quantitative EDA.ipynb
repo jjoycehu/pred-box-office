{
 "cells": [
  {
   "cell_type": "markdown",
   "metadata": {},
   "source": [
    "# COGS 108 - EDA Checkpoint"
   ]
  },
  {
   "cell_type": "markdown",
   "metadata": {},
   "source": [
    "# Names\n",
    "\n",
    "- Jonathan Cheung\n",
    "- Joshua Chuang\n",
    "- Joyce Hu\n",
    "- Ester Tsai\n",
    "- Sam Wong"
   ]
  },
  {
   "cell_type": "markdown",
   "metadata": {},
   "source": [
    "## Note:\n",
    "\n",
    "**Old project research question:** Does the sentiment of a US president's Wikipedia page (based on a sentiment score) correlate to their average presidential approval ratings (according to Gallup poll)? (FDR to Biden)\n",
    "\n",
    "**New project research question:** Which factor, among factors such as director, genre, and sentiment analysis of the plot, has the highest correlation with American film's box office sale?\n",
    "\n",
    "**Our team chose to pursue a different project research question than our project proposal for the following reasons:**\n",
    "- The old dataset only has information on 16 presidents (only 16 rows of data after aggregation), so there is not enough data to work with. The new dataset on American films can easily have more than a few thousand rows. \n",
    "- The old research question has the issue \"no explanation of why the hypothesis was chosen. You should explain the rationale behind the hypothesis.\" So for our new research question, we will have a stronger rationale behind the hypothesis than the old hypothesis.\n",
    "\n",
    "### Hypothesis\n",
    "\n",
    "We hypothesize that American films with more extreme sentiment values have a higher association with higher box office sales than other film characteristics because viewers are more enticed by dramatic film plots. "
   ]
  },
  {
   "cell_type": "markdown",
   "metadata": {},
   "source": [
    "<a id='research_question'></a>\n",
    "# Research Question"
   ]
  },
  {
   "cell_type": "markdown",
   "metadata": {},
   "source": [
    "Which factor, among factors such as director, genre, and sentiment analysis of the plot, has the highest correlation with American film's box office sale?"
   ]
  },
  {
   "cell_type": "markdown",
   "metadata": {},
   "source": [
    "# Dataset(s)"
   ]
  },
  {
   "cell_type": "markdown",
   "metadata": {},
   "source": [
    "- Dataset Name: \"American Films.csv\"\n",
    "- Link to the dataset: Web scraped from Wikipedia, so there is no link\n",
    "- Number of observations: 2521\n",
    "\n",
    "This dataset was scraped from the Wikipeida page \"American Films by Genre\" (https://en.wikipedia.org/wiki/Category:American_films_by_genre). It contains the variables 'Film name', 'Genre', 'Plot', 'Directed by', 'Written by', 'Story by', 'Produced by', 'Starring', 'Cinematography', 'Edited by', 'Music by', 'Production company', 'Distributed by', 'Duration (min)', 'Release year', 'Budget (mil dollar)', 'Box office (mil dollar)', 'VADER Sentiment', 'TextBlob Subjectivity', and 'TextBlob Polarity'. It has been filtered to include only the films that have vaild box office values."
   ]
  },
  {
   "cell_type": "markdown",
   "metadata": {},
   "source": [
    "# Setup"
   ]
  },
  {
   "cell_type": "code",
   "execution_count": null,
   "metadata": {},
   "outputs": [
    {
     "ename": "",
     "evalue": "",
     "output_type": "error",
     "traceback": [
      "\u001b[1;31mRunning cells with 'Python 3.10.8 64-bit' requires ipykernel package.\n",
      "\u001b[1;31mRun the following command to install 'ipykernel' into the Python environment. \n",
      "\u001b[1;31mCommand: 'c:/msys64/mingw64/bin/python.exe -m pip install ipykernel -U --user --force-reinstall'"
     ]
    }
   ],
   "source": [
    "# Basic libraries\n",
    "import numpy as np\n",
    "\n",
    "# Pandas\n",
    "import pandas as pd\n",
    "pd.set_option('display.max_columns', None)\n",
    "\n",
    "# Data visualization\n",
    "import seaborn as sns\n",
    "sns.set(font_scale=2, style=\"white\")\n",
    "\n",
    "import matplotlib as mpl\n",
    "import matplotlib.pyplot as plt\n",
    "import matplotlib.style as style\n",
    "\n",
    "# set plotting size parameter\n",
    "plt.rcParams['figure.figsize'] = (12, 5)\n",
    "\n",
    "# Webscraping\n",
    "import requests\n",
    "from bs4 import BeautifulSoup\n",
    "\n",
    "# Textual and sentiment analysis\n",
    "import re\n",
    "\n",
    "from vaderSentiment.vaderSentiment import SentimentIntensityAnalyzer\n",
    "\n",
    "from textblob import TextBlob\n",
    "\n",
    "import nltk\n",
    "nltk.download('punkt')\n",
    "from LeXmo import LeXmo\n",
    "\n",
    "\n",
    "# Improve resolution\n",
    "%config InlineBackend.figure_format ='retina'\n",
    "\n",
    "# Ignore wanrnings\n",
    "import warnings\n",
    "warnings.filterwarnings('ignore')"
   ]
  },
  {
   "cell_type": "markdown",
   "metadata": {},
   "source": [
    "# Data Cleaning"
   ]
  },
  {
   "cell_type": "markdown",
   "metadata": {},
   "source": [
    "## 1) Import Scraped Dataset"
   ]
  },
  {
   "cell_type": "code",
   "execution_count": null,
   "metadata": {},
   "outputs": [
    {
     "ename": "",
     "evalue": "",
     "output_type": "error",
     "traceback": [
      "\u001b[1;31mRunning cells with 'Python 3.10.8 64-bit' requires ipykernel package.\n",
      "\u001b[1;31mRun the following command to install 'ipykernel' into the Python environment. \n",
      "\u001b[1;31mCommand: 'c:/msys64/mingw64/bin/python.exe -m pip install ipykernel -U --user --force-reinstall'"
     ]
    }
   ],
   "source": [
    "df_unfiltered = pd.read_csv('American Films (before cleaning).csv')\n",
    "\n",
    "# Filter the dataset to include only the rows with a non-null 'Box office'\n",
    "df = df_unfiltered[df_unfiltered['Box office'].notnull()]\n",
    "\n",
    "df"
   ]
  },
  {
   "cell_type": "markdown",
   "metadata": {},
   "source": [
    "## 2) Data Collection\n",
    "\n",
    "This section contains the code we used to scrape the data from Wikipedia.\n",
    "### Specify the URLs to scrape"
   ]
  },
  {
   "cell_type": "code",
   "execution_count": null,
   "metadata": {},
   "outputs": [
    {
     "ename": "",
     "evalue": "",
     "output_type": "error",
     "traceback": [
      "\u001b[1;31mRunning cells with 'Python 3.10.8 64-bit' requires ipykernel package.\n",
      "\u001b[1;31mRun the following command to install 'ipykernel' into the Python environment. \n",
      "\u001b[1;31mCommand: 'c:/msys64/mingw64/bin/python.exe -m pip install ipykernel -U --user --force-reinstall'"
     ]
    }
   ],
   "source": [
    "genre_link = {\n",
    "    'Action': [\n",
    "        'https://en.wikipedia.org/w/index.php?title=Category:American_action_films&pageuntil=Driving+Force+%281989+film%29#mw-pages',\n",
    "        'https://en.wikipedia.org/w/index.php?title=Category:American_action_films&pagefrom=Driving+Force+%281989+film%29#mw-pages',\n",
    "        'https://en.wikipedia.org/w/index.php?title=Category:American_action_films&pagefrom=Marksman%2C+The%0AThe+Marksman+%282005+film%29#mw-pages',\n",
    "        'https://en.wikipedia.org/w/index.php?title=Category:American_action_films&pagefrom=Spider-Man+3#mw-pages'\n",
    "    ],\n",
    "    'Crime': [\n",
    "        'https://en.wikipedia.org/wiki/Category:American_crime_films',\n",
    "        'https://en.wikipedia.org/w/index.php?title=Category:American_crime_films&pagefrom=Dial+Red+O#mw-pages',\n",
    "        'https://en.wikipedia.org/w/index.php?title=Category:American_crime_films&pagefrom=Ivy+%28Film%29%0AIvy+%281947+film%29#mw-pages',\n",
    "        'https://en.wikipedia.org/w/index.php?title=Category:American_crime_films&pagefrom=One+Stolen+Night+%281929+film%29#mw-pages',\n",
    "        'https://en.wikipedia.org/w/index.php?title=Category:American_crime_films&pagefrom=Tenderloin+%28film%29#mw-pages'\n",
    "    ],\n",
    "    'War': [\n",
    "        'https://en.wikipedia.org/wiki/Category:American_war_films',\n",
    "        'https://en.wikipedia.org/w/index.php?title=Category:American_war_films&pagefrom=Retreat%2C+Hell%21#mw-pages'\n",
    "    ],\n",
    "    'Romance': [\n",
    "        'https://en.wikipedia.org/wiki/Category:American_romance_films',\n",
    "        'https://en.wikipedia.org/w/index.php?title=Category:American_romance_films&pagefrom=Sporting+Venus%2C+The%0AThe+Sporting+Venus#mw-pages'\n",
    "    ],\n",
    "    'Thriller': [\n",
    "        'https://en.wikipedia.org/wiki/Category:American_thriller_films',\n",
    "        'https://en.wikipedia.org/w/index.php?title=Category:American_thriller_films&pagefrom=Godsend+%282004+film%29#mw-pages',\n",
    "        'https://en.wikipedia.org/w/index.php?title=Category:American_thriller_films&pagefrom=Poltergeist+%28film%29%0APoltergeist+%281982+film%29#mw-pages',\n",
    "        'https://en.wikipedia.org/w/index.php?title=Category:American_thriller_films&pagefrom=Winchester+%28film%29#mw-pages'\n",
    "    ],\n",
    "    'Horror': [\n",
    "        'https://en.wikipedia.org/wiki/Category:American_horror_films',\n",
    "        'https://en.wikipedia.org/w/index.php?title=Category:American_horror_films&pagefrom=Isle+of+the+Dead+%28film%29#mw-pages',\n",
    "        'https://en.wikipedia.org/w/index.php?title=Category:American_horror_films&pagefrom=West+of+Hell#mw-pages'\n",
    "    ],\n",
    "    'Biographical': [\n",
    "        'https://en.wikipedia.org/wiki/Category:American_biographical_films',\n",
    "        'https://en.wikipedia.org/w/index.php?title=Category:American_biographical_films&pagefrom=I+Wanna+Dance+with+Somebody+%28film%29#mw-pages',\n",
    "        'https://en.wikipedia.org/w/index.php?title=Category:American_biographical_films&pagefrom=Story+of+Alexander+Graham+Bell%0AThe+Story+of+Alexander+Graham+Bell#mw-pages'\n",
    "    ],\n",
    "    'Satirical': [\n",
    "        'https://en.wikipedia.org/wiki/Category:American_satirical_films',\n",
    "        'https://en.wikipedia.org/w/index.php?title=Category:American_satirical_films&pagefrom=Hospital%2C+The%0AThe+Hospital#mw-pages',\n",
    "        'https://en.wikipedia.org/w/index.php?title=Category:American_satirical_films&pagefrom=Taintlight%0ATaintlight#mw-pages'\n",
    "    ],\n",
    "    'Science Fiction': [\n",
    "        'https://en.wikipedia.org/wiki/Category:American_science_fiction_films',\n",
    "        'https://en.wikipedia.org/w/index.php?title=Category:American_Western_(genre)_films&pagefrom=Big+Sombrero%2C+The%0AThe+Big+Sombrero+%28film%29#mw-pages'\n",
    "    ],\n",
    "    'Monster': [\n",
    "        'https://en.wikipedia.org/wiki/Category:American_monster_movies',\n",
    "        'https://en.wikipedia.org/w/index.php?title=Category:American_monster_movies&pagefrom=Fly%2C+The%0AThe+Fly+%281986+film%29#mw-pages',\n",
    "        'https://en.wikipedia.org/w/index.php?title=Category:American_monster_movies&pagefrom=Nailbiter#mw-pages',\n",
    "        'https://en.wikipedia.org/w/index.php?title=Category:American_monster_movies&pagefrom=World+Without+End+%28film%29#mw-pages'\n",
    "    ],\n",
    "    'Mystery': [\n",
    "        'https://en.wikipedia.org/wiki/Category:American_mystery_films',\n",
    "        'https://en.wikipedia.org/w/index.php?title=Category:American_mystery_films&pagefrom=Deceiver+%28film%29#mw-pages',\n",
    "        'https://en.wikipedia.org/w/index.php?title=Category:American_mystery_films&pagefrom=House+of+Fear%2C+The%0AThe+House+of+Fear+%281915+film%29#mw-pages',\n",
    "        'https://en.wikipedia.org/w/index.php?title=Category:American_mystery_films&pagefrom=Murder+She+Baked%0AMurder%2C+She+Baked#mw-pages',\n",
    "        'https://en.wikipedia.org/w/index.php?title=Category:American_mystery_films&pagefrom=Seven+Footprints+To+Satan+%28Film%29%0ASeven+Footprints+to+Satan#mw-pages',\n",
    "        'https://en.wikipedia.org/w/index.php?title=Category:American_mystery_films&pagefrom=X+Marks+The+Spot%0AX+Marks+the+Spot+%281942+film%29#mw-pages'\n",
    "    ],\n",
    "    'Drama': [\n",
    "        'https://en.wikipedia.org/wiki/Category:American_drama_films',\n",
    "        'https://en.wikipedia.org/w/index.php?title=Category:American_drama_films&pagefrom=Are+These+Our+Children#mw-pages',\n",
    "        'https://en.wikipedia.org/w/index.php?title=Category:American_drama_films&pagefrom=Black+Circle+Boys#mw-pages',\n",
    "        'https://en.wikipedia.org/w/index.php?title=Category:American_drama_films&pagefrom=Chad+Hanna#mw-pages',\n",
    "        'https://en.wikipedia.org/w/index.php?title=Category:American_drama_films&pagefrom=Dancer%27s+Peril%0AThe+Dancer%27s+Peril#mw-pages',\n",
    "        'https://en.wikipedia.org/w/index.php?title=Category:American_drama_films&pagefrom=Drunktown%27s+Finest%0ADrunktown%27s+Finest#mw-pages',\n",
    "        'https://en.wikipedia.org/w/index.php?title=Category:American_drama_films&pagefrom=Flag+Day+%28film%29#mw-pages',\n",
    "        'https://en.wikipedia.org/w/index.php?title=Category:American_drama_films&pagefrom=God%27s+Little+Acre%0AGod%27s+Little+Acre+%28film%29#mw-pages',\n",
    "        'https://en.wikipedia.org/w/index.php?title=Category:American_drama_films&pagefrom=Highway+13+%28film%29#mw-pages',\n",
    "        'https://en.wikipedia.org/w/index.php?title=Category:American_drama_films&pagefrom=Invitation+to+Happiness#mw-pages',\n",
    "        'https://en.wikipedia.org/w/index.php?title=Category:American_drama_films&pagefrom=Last+Voyage%2C+The%0AThe+Last+Voyage#mw-pages',\n",
    "        'https://en.wikipedia.org/w/index.php?title=Category:American_drama_films&pagefrom=Lure+of+the+Swamp#mw-pages',\n",
    "        'https://en.wikipedia.org/w/index.php?title=Category:American_drama_films&pagefrom=Million+Dollar+Ransom#mw-pages',\n",
    "        'https://en.wikipedia.org/w/index.php?title=Category:American_drama_films&pagefrom=Nomads%0ANomads+%282010+film%29#mw-pages',\n",
    "        'https://en.wikipedia.org/w/index.php?title=Category:American_drama_films&pagefrom=Pearl+%282020+film%29#mw-pages',\n",
    "        'https://en.wikipedia.org/w/index.php?title=Category:American_drama_films&pagefrom=Reflections+in+a+Golden+Eye+%28film%29#mw-pages',\n",
    "        'https://en.wikipedia.org/w/index.php?title=Category:American_drama_films&pagefrom=Seven+Pounds#mw-pages',\n",
    "        'https://en.wikipedia.org/w/index.php?title=Category:American_drama_films&pagefrom=Sporting+Blood+%281940+film%29#mw-pages',\n",
    "        'https://en.wikipedia.org/w/index.php?title=Category:American_drama_films&pagefrom=Tarantella+%281995+film%29#mw-pages',\n",
    "        'https://en.wikipedia.org/w/index.php?title=Category:American_drama_films&pagefrom=Treading+Water+%28Film%29%0ATreading+Water+%282001+film%29#mw-pages',\n",
    "        'https://en.wikipedia.org/w/index.php?title=Category:American_drama_films&pagefrom=Water+Man%2C+The+%28film%29%0AThe+Water+Man+%28film%29#mw-pages',\n",
    "        'https://en.wikipedia.org/w/index.php?title=Category:American_drama_films&pagefrom=World+For+Ransom%0AWorld+for+Ransom#mw-pages'\n",
    "    ]\n",
    "}"
   ]
  },
  {
   "cell_type": "markdown",
   "metadata": {},
   "source": [
    "### Specify the information to include in our dataset"
   ]
  },
  {
   "cell_type": "code",
   "execution_count": null,
   "metadata": {},
   "outputs": [
    {
     "ename": "",
     "evalue": "",
     "output_type": "error",
     "traceback": [
      "\u001b[1;31mRunning cells with 'Python 3.10.8 64-bit' requires ipykernel package.\n",
      "\u001b[1;31mRun the following command to install 'ipykernel' into the Python environment. \n",
      "\u001b[1;31mCommand: 'c:/msys64/mingw64/bin/python.exe -m pip install ipykernel -U --user --force-reinstall'"
     ]
    }
   ],
   "source": [
    "info_list = [\n",
    "    'Film name', \n",
    "    'Genre', \n",
    "    'Plot',\n",
    "    'Directed by',\n",
    "    'Written by',\n",
    "    'Story by',\n",
    "    'Produced by',\n",
    "    'Starring',\n",
    "    'Cinematography',\n",
    "    'Edited by',\n",
    "    'Music by',\n",
    "    'Production company',\n",
    "    'Distributed by',\n",
    "    'Release date',\n",
    "    'Running time',\n",
    "    'Budget',\n",
    "    'Box office'\n",
    "]"
   ]
  },
  {
   "cell_type": "markdown",
   "metadata": {},
   "source": [
    "### Web scrape Wikipedia and construct dataset"
   ]
  },
  {
   "cell_type": "code",
   "execution_count": null,
   "metadata": {},
   "outputs": [
    {
     "ename": "",
     "evalue": "",
     "output_type": "error",
     "traceback": [
      "\u001b[1;31mRunning cells with 'Python 3.10.8 64-bit' requires ipykernel package.\n",
      "\u001b[1;31mRun the following command to install 'ipykernel' into the Python environment. \n",
      "\u001b[1;31mCommand: 'c:/msys64/mingw64/bin/python.exe -m pip install ipykernel -U --user --force-reinstall'"
     ]
    }
   ],
   "source": [
    "def web_scrape_film_wiki_pages(genre_link):\n",
    "\n",
    "    # Create a blank dataframe and assign column names\n",
    "    df = pd.DataFrame(columns=info_list)\n",
    "\n",
    "    # Loop through the genres\n",
    "    # category_links is a list of URLs for the same genre, but each URL contains around 200 individual films\n",
    "    for genre, category_links in genre_link.items():\n",
    "\n",
    "        # Each movie genre has several URLs since not everything can fit on the same page\n",
    "        # Loop through the URLs in category_links to access all the URLs for each movie genre\n",
    "        for category_link in category_links:\n",
    "            req = requests.get(category_link, timeout=50)\n",
    "            soup = BeautifulSoup(req.content, 'html') # get contents of web page    \n",
    "\n",
    "            soup.find('div', {'class': 'mw-content-ltr'}).find_all('a', href=True)\n",
    "\n",
    "            # Each category_link has around 200 individual films' URLs\n",
    "            # This for loop populates name_links dictionary with the film name as key and Wikipedia page URL as value\n",
    "            name_links = {}\n",
    "            for a in soup.find('div', {'class': 'mw-content-ltr'}).find_all('a', href=True):\n",
    "                film_name = a.text\n",
    "                link_end = a['href']\n",
    "                link = 'https://en.wikipedia.org' + link_end\n",
    "                if 'Categor' not in link: # skip if 'Category' or 'Categorization' is in the link\n",
    "                    name_links[film_name] = link\n",
    "\n",
    "            # Loop through the individual films' URLs to extract wanted info\n",
    "            for film_name, link in name_links.items():\n",
    "                req = requests.get(link, timeout=50)\n",
    "                soup = BeautifulSoup(req.content, 'html') # get contents of web page\n",
    "                tag_contents = soup.select('p, span.mw-headline')\n",
    "\n",
    "                # Extract the plot (can also be named \"Premise\" or \"Synopsis\") if it exists\n",
    "                start_index_of_plot = -1\n",
    "                end_index_of_plot = -1\n",
    "                plot_exists = False\n",
    "\n",
    "                for i, tag_content in enumerate(tag_contents):\n",
    "                    tag = tag_content.name\n",
    "                    content = tag_content.text\n",
    "\n",
    "                    if (plot_exists) & (tag == 'span'):\n",
    "                        end_index_of_plot = i\n",
    "                        break\n",
    "\n",
    "                    if (content == 'Plot') | (content == 'Premise') | (content == 'Synopsis'):\n",
    "                        start_index_of_plot = i + 1\n",
    "                        plot_exists = True\n",
    "\n",
    "                plot = []\n",
    "                for content in tag_contents[start_index_of_plot: end_index_of_plot]:\n",
    "                    par = content.text\n",
    "                    plot += [par]\n",
    "\n",
    "                plot = \"\".join(plot).strip()\n",
    "\n",
    "                # If plot exists, extract other info as well\n",
    "                if len(plot) >= 1:\n",
    "\n",
    "                    film_dict = {'Film name': film_name, 'Genre': genre, 'Plot': plot}\n",
    "\n",
    "                    # Get other info on the film, if the info table eixsts \n",
    "                    try:\n",
    "                        req = requests.get(link, timeout=50)\n",
    "                        soup = BeautifulSoup(req.content, 'html')\n",
    "                        wiki_tables = soup.select('table', {'class': 'infobox vevent'})\n",
    "                        wiki_table = wiki_tables[0] # get info table\n",
    "\n",
    "                        # Loop through the tables until we have the info table we want\n",
    "                        i = 0\n",
    "                        while 'Directed by' not in wiki_table.text:\n",
    "                            i += 1\n",
    "                            wiki_table = wiki_tables[i]\n",
    "\n",
    "                        # Some minor data cleaning\n",
    "                        table_html = str(wiki_table).replace('<br/>', '/ ').replace('</li>', '/ ') # replace new line characters with a slash to separate the list of names\n",
    "                        table_html = re.sub(r\"\\[\\d+\\]\", \"\", table_html) # remove brackets (which provide link to references, but are not needed for our project)\n",
    "\n",
    "                        # Use pd.read_html to create pandas dataframe of the info table\n",
    "                        df = pd.read_html(table_html) \n",
    "                        df = pd.DataFrame(df[0]) # convert list to dataframe\n",
    "                        df.columns = ['col_name', 'info']\n",
    "                        df['col_name'] = df['col_name'].replace('/', ' ').replace('companies', 'company').replace('dates', 'date') # fix minor style error\n",
    "                        df['info'] = df['info'].apply(lambda x: x[:-1] if str(x)[-1] == \"/\" else x) # fix minor style error\n",
    "\n",
    "                        info_dict = {k: v for (k, v) in zip(list(df['col_name']), list(df['info'])) if k in info_list}\n",
    "                        dict_to_append = {**film_dict, **info_dict}\n",
    "\n",
    "                    # If the info table does not exist, then only append the film name, genre, and plot\n",
    "                    except:\n",
    "                        dict_to_append = film_dict\n",
    "\n",
    "                    # Update the dataframe\n",
    "                    df = df.append(dict_to_append, ignore_index=True)    \n",
    "                    \n",
    "    return df"
   ]
  },
  {
   "cell_type": "markdown",
   "metadata": {},
   "source": [
    "## 3) Clean and Prepare the Dataset for Analysis\n",
    "How 'clean' is the data?\n",
    "- The dataset does require some cleaning. Some current issues with the dataset include:\n",
    "    - Many string variables contain extra symbols such as reference brackets.\n",
    "    - 'Running time' is not in a standardized format and is not quantitative. Ideally, it should be an integer representing the number of minutes.\n",
    "    - 'Budget' is not in a standardized format and is not quantitative. Ideally, it should be a float representing the dollar amount in millions.\n",
    "    - 'Box office' is not in a standardized format and is not quantitative. Ideally, it should be a float representing the dollar amount in millions.\n",
    "    - Many columns contain a list of names, which is not ideal for aggregation analysis. We will perform one-hot encoding after choosing which variables to use in our future analysis."
   ]
  },
  {
   "cell_type": "markdown",
   "metadata": {},
   "source": [
    "### Clean up text columns"
   ]
  },
  {
   "cell_type": "code",
   "execution_count": null,
   "metadata": {},
   "outputs": [
    {
     "ename": "",
     "evalue": "",
     "output_type": "error",
     "traceback": [
      "\u001b[1;31mRunning cells with 'Python 3.10.8 64-bit' requires ipykernel package.\n",
      "\u001b[1;31mRun the following command to install 'ipykernel' into the Python environment. \n",
      "\u001b[1;31mCommand: 'c:/msys64/mingw64/bin/python.exe -m pip install ipykernel -U --user --force-reinstall'"
     ]
    }
   ],
   "source": [
    "# Remove references from 'Plot' column   \n",
    "def remove_references(df, col_name):\n",
    "    return df[col_name].replace(r'\\[\\d+\\]','', regex=True).replace(r'\\[\\w\\]','', regex=True) \n",
    "    \n",
    "df['Plot'] = remove_references(df, 'Plot')\n",
    "df['Budget'] = remove_references(df, 'Budget')\n",
    "df['Box office'] = remove_references(df, 'Box office')"
   ]
  },
  {
   "cell_type": "markdown",
   "metadata": {},
   "source": [
    "### Extract numerical and datetime info from text variables\n",
    "- 'Running time' &rarr; 'Duration (min)'\n",
    "- 'Release date' &rarr; 'Release year'\n",
    "- 'Budget' &rarr; 'Budget (mil dollar)'\n",
    "- 'Box office' &rarr; 'Box office (mil dollar)'"
   ]
  },
  {
   "cell_type": "code",
   "execution_count": null,
   "metadata": {},
   "outputs": [
    {
     "ename": "",
     "evalue": "",
     "output_type": "error",
     "traceback": [
      "\u001b[1;31mRunning cells with 'Python 3.10.8 64-bit' requires ipykernel package.\n",
      "\u001b[1;31mRun the following command to install 'ipykernel' into the Python environment. \n",
      "\u001b[1;31mCommand: 'c:/msys64/mingw64/bin/python.exe -m pip install ipykernel -U --user --force-reinstall'"
     ]
    }
   ],
   "source": [
    "# 'Duration (min)' extracts the number of minutes from 'Running time'\n",
    "df['Duration (min)'] = df['Running time'].str.lower().str.extract(r'(?P<duration>[\\d]+) min')\n",
    "# df.drop(columns=['Running time'])\n",
    "\n",
    "\n",
    "# 'Release year' extracts the year from 'Release date'\n",
    "df['Release year'] = df['Release date'].str.extract(r'(\\d{4})')\n",
    "# df.drop(columns=['Release date'])\n",
    "\n",
    "\n",
    "# Function to extract the dollar value in millions from messy string variables\n",
    "# Averages the values if given a range\n",
    "def extract_million_dollar(string):\n",
    "    if (type(string) != str) or ('$' not in string):\n",
    "        return np.nan\n",
    "    \n",
    "    string = string.replace(',', '')\n",
    "    result = np.nan\n",
    "    \n",
    "    if 'equivalent' in string:\n",
    "        start_idx = string.find('equivalent')+len('equivalent')\n",
    "        result = float(re.findall(r'(\\d+\\.?\\d*)', string[start_idx:])[0])\n",
    "        if 'mil' not in string[start_idx:]:\n",
    "            result = result / 1_000_000\n",
    "        return result\n",
    "    \n",
    "    string = re.sub(r'\\([^)]*\\)', '', string)\n",
    "    nums = re.findall(r'(\\d+\\.?\\d*)', string)\n",
    "    \n",
    "    if len(nums) >= 2:\n",
    "        if ('mil' in string) & ('–' in string):\n",
    "            nums[0] = float(nums[0])\n",
    "        else:    \n",
    "            start_idx = string.find(nums[0])+len(nums[0])\n",
    "            end_idx = string.find(nums[1])\n",
    "            if 'mil' in string[start_idx: end_idx]:\n",
    "                nums[0] = float(nums[0])\n",
    "            else:\n",
    "                nums[0] = float(nums[0]) / 1_000_000\n",
    "\n",
    "        final_num_start_idx = string.find(nums[1])           \n",
    "        if 'mil' in string[final_num_start_idx:]:\n",
    "            nums[1] = float(nums[1])\n",
    "        else:\n",
    "            nums[1] = float(nums[1]) / 1_000_000\n",
    "\n",
    "        if ('/' in string) & ('or' not in string):\n",
    "            result = np.sum(nums[:2])\n",
    "        else:\n",
    "            result = np.mean(nums[:2])\n",
    "\n",
    "    else:\n",
    "        if 'mil' in string:\n",
    "            result = float(nums[0])\n",
    "        else:\n",
    "            result = float(nums[0]) / 1_000_000\n",
    "            \n",
    "    return result\n",
    "\n",
    "\n",
    "# 'Budget (mil)' extracts the dollar value in millions from 'Budget'\n",
    "df['Budget (mil dollar)'] = df['Budget'].apply(extract_million_dollar)\n",
    "# df.drop(columns=['Budget'])\n",
    "\n",
    "# 'Box office (mil)' extracts the dollar value in millions from 'Box office'\n",
    "df['Box office (mil dollar)'] = df['Box office'].apply(extract_million_dollar)\n",
    "# df.drop(columns=['Box office'])"
   ]
  },
  {
   "cell_type": "markdown",
   "metadata": {},
   "source": [
    "### Sentiment Analysis\n",
    "VADER\n",
    "- VADER Sentiment lies between [-1,1]\n",
    "    - -1 defines a negative sentiment and 1 defines a positive sentiment.\n",
    "    - VADER performs better than TextBlob on identifying negative sentiment."
   ]
  },
  {
   "cell_type": "code",
   "execution_count": null,
   "metadata": {},
   "outputs": [
    {
     "ename": "",
     "evalue": "",
     "output_type": "error",
     "traceback": [
      "\u001b[1;31mRunning cells with 'Python 3.10.8 64-bit' requires ipykernel package.\n",
      "\u001b[1;31mRun the following command to install 'ipykernel' into the Python environment. \n",
      "\u001b[1;31mCommand: 'c:/msys64/mingw64/bin/python.exe -m pip install ipykernel -U --user --force-reinstall'"
     ]
    }
   ],
   "source": [
    "VADER_SentimentIntensityAnalyzer = SentimentIntensityAnalyzer()\n",
    "\n",
    "def get_VADER_sentiment(text):\n",
    "    return VADER_SentimentIntensityAnalyzer.polarity_scores(text)['compound']\n",
    "\n",
    "df['VADER Sentiment'] = df['Plot'].apply(get_VADER_sentiment)"
   ]
  },
  {
   "cell_type": "markdown",
   "metadata": {},
   "source": [
    "TextBlob\n",
    "- TextBlob Polarity lies between [-1,1]\n",
    "    - -1 defines a negative sentiment and 1 defines a positive sentiment. \n",
    "    - Negation words reverse the polarity. When any negation is added with any sentence it simply multiplies -0.5 to the polarity score of the word. \n",
    "- TextBlob Subjectivity lies between [0,1]. \n",
    "    - Subjectivity quantifies the amount of personal opinion and factual information contained in the text. The higher subjectivity means that the text contains personal opinion rather than factual information."
   ]
  },
  {
   "cell_type": "code",
   "execution_count": null,
   "metadata": {},
   "outputs": [
    {
     "ename": "",
     "evalue": "",
     "output_type": "error",
     "traceback": [
      "\u001b[1;31mRunning cells with 'Python 3.10.8 64-bit' requires ipykernel package.\n",
      "\u001b[1;31mRun the following command to install 'ipykernel' into the Python environment. \n",
      "\u001b[1;31mCommand: 'c:/msys64/mingw64/bin/python.exe -m pip install ipykernel -U --user --force-reinstall'"
     ]
    }
   ],
   "source": [
    "def get_TextBlob_subjectivity(text):\n",
    "    return TextBlob(text).sentiment.subjectivity\n",
    "\n",
    "def get_TextBlob_polarity(text):\n",
    "    return TextBlob(text).sentiment.polarity\n",
    "\n",
    "df['TextBlob Subjectivity'] = df['Plot'].apply(get_TextBlob_subjectivity)\n",
    "df['TextBlob Polarity'] = df['Plot'].apply(get_TextBlob_polarity)"
   ]
  },
  {
   "cell_type": "markdown",
   "metadata": {},
   "source": [
    "## 4) Resulting Dataset"
   ]
  },
  {
   "cell_type": "code",
   "execution_count": null,
   "metadata": {},
   "outputs": [
    {
     "ename": "",
     "evalue": "",
     "output_type": "error",
     "traceback": [
      "\u001b[1;31mRunning cells with 'Python 3.10.8 64-bit' requires ipykernel package.\n",
      "\u001b[1;31mRun the following command to install 'ipykernel' into the Python environment. \n",
      "\u001b[1;31mCommand: 'c:/msys64/mingw64/bin/python.exe -m pip install ipykernel -U --user --force-reinstall'"
     ]
    }
   ],
   "source": [
    "df.to_csv('American Films.csv', index=False)\n",
    "df.head(1)"
   ]
  },
  {
   "cell_type": "markdown",
   "metadata": {},
   "source": [
    "Note: For all the categorical values we plan to analyze, perform statistical tests on, or create machine learning models with, we may need to perform one-hot encoding to create quantitative values. But we will perform that step after EDA as needed."
   ]
  },
  {
   "cell_type": "markdown",
   "metadata": {},
   "source": [
    "# Data Analysis & Results (EDA)"
   ]
  },
  {
   "cell_type": "markdown",
   "metadata": {},
   "source": [
    "Carry out EDA on your dataset(s); Describe in this section"
   ]
  },
  {
   "cell_type": "markdown",
   "metadata": {},
   "source": [
    "[JCheung] Quantitative: duration, budget, release year (not really quantitative but can go here)\n",
    "How many movies are released each year?\n"
   ]
  },
  {
   "cell_type": "markdown",
   "metadata": {},
   "source": [
    "Import American Films dataset into \"df.\""
   ]
  },
  {
   "cell_type": "code",
   "execution_count": null,
   "metadata": {},
   "outputs": [
    {
     "ename": "",
     "evalue": "",
     "output_type": "error",
     "traceback": [
      "\u001b[1;31mRunning cells with 'Python 3.10.8 64-bit' requires ipykernel package.\n",
      "\u001b[1;31mRun the following command to install 'ipykernel' into the Python environment. \n",
      "\u001b[1;31mCommand: 'c:/msys64/mingw64/bin/python.exe -m pip install ipykernel -U --user --force-reinstall'"
     ]
    }
   ],
   "source": [
    "df = pd.read_csv('American Films.csv')"
   ]
  },
  {
   "cell_type": "code",
   "execution_count": null,
   "metadata": {},
   "outputs": [
    {
     "ename": "",
     "evalue": "",
     "output_type": "error",
     "traceback": [
      "\u001b[1;31mRunning cells with 'Python 3.10.8 64-bit' requires ipykernel package.\n",
      "\u001b[1;31mRun the following command to install 'ipykernel' into the Python environment. \n",
      "\u001b[1;31mCommand: 'c:/msys64/mingw64/bin/python.exe -m pip install ipykernel -U --user --force-reinstall'"
     ]
    }
   ],
   "source": [
    "df.head(1)"
   ]
  },
  {
   "cell_type": "markdown",
   "metadata": {},
   "source": [
    "Assign \"quant\" to be the columns that Quantitative EDA will be performed on. This includes the duration, budget, release year, and box office columns."
   ]
  },
  {
   "cell_type": "code",
   "execution_count": null,
   "metadata": {},
   "outputs": [
    {
     "ename": "",
     "evalue": "",
     "output_type": "error",
     "traceback": [
      "\u001b[1;31mRunning cells with 'Python 3.10.8 64-bit' requires ipykernel package.\n",
      "\u001b[1;31mRun the following command to install 'ipykernel' into the Python environment. \n",
      "\u001b[1;31mCommand: 'c:/msys64/mingw64/bin/python.exe -m pip install ipykernel -U --user --force-reinstall'"
     ]
    }
   ],
   "source": [
    "quant = df[['Duration (min)', 'Release year', 'Budget (mil dollar)', 'Box office (mil dollar)']]"
   ]
  },
  {
   "cell_type": "markdown",
   "metadata": {},
   "source": [
    "Displaying descriptive statistics on the dataset."
   ]
  },
  {
   "cell_type": "code",
   "execution_count": null,
   "metadata": {},
   "outputs": [
    {
     "ename": "",
     "evalue": "",
     "output_type": "error",
     "traceback": [
      "\u001b[1;31mRunning cells with 'Python 3.10.8 64-bit' requires ipykernel package.\n",
      "\u001b[1;31mRun the following command to install 'ipykernel' into the Python environment. \n",
      "\u001b[1;31mCommand: 'c:/msys64/mingw64/bin/python.exe -m pip install ipykernel -U --user --force-reinstall'"
     ]
    }
   ],
   "source": [
    "quant.describe()"
   ]
  },
  {
   "cell_type": "markdown",
   "metadata": {},
   "source": [
    "Exploring the distributions of the data columns."
   ]
  },
  {
   "cell_type": "code",
   "execution_count": null,
   "metadata": {},
   "outputs": [
    {
     "ename": "",
     "evalue": "",
     "output_type": "error",
     "traceback": [
      "\u001b[1;31mRunning cells with 'Python 3.10.8 64-bit' requires ipykernel package.\n",
      "\u001b[1;31mRun the following command to install 'ipykernel' into the Python environment. \n",
      "\u001b[1;31mCommand: 'c:/msys64/mingw64/bin/python.exe -m pip install ipykernel -U --user --force-reinstall'"
     ]
    }
   ],
   "source": [
    "fig, axs = plt.subplots(4,1, figsize=(10,18))\n",
    "\n",
    "sns.histplot(quant['Duration (min)'], ax=axs[0]).set(title='Distribution of Movie Durations (mins)')\n",
    "sns.histplot(quant['Release year'], ax=axs[1]).set(title='Distribution of Movie Release Year')\n",
    "sns.histplot(quant['Budget (mil dollar)'], ax=axs[2]).set(title='Distribution of Movie Budget (mil)')\n",
    "sns.histplot(quant['Box office (mil dollar)'], ax=axs[3]).set(title='Distribution of Box Office (mil)')\n",
    "\n",
    "plt.tight_layout()\n",
    "plt.show()\n"
   ]
  },
  {
   "cell_type": "markdown",
   "metadata": {},
   "source": [
    "As seen in the histograms, all columns except the release year column contain outliers. Specifically for budget and box office distributions, they both look similar and are both heavily skewed to the right.\n",
    "\n",
    "Removing ouliers shows a clearer distribution."
   ]
  },
  {
   "cell_type": "code",
   "execution_count": null,
   "metadata": {},
   "outputs": [
    {
     "ename": "",
     "evalue": "",
     "output_type": "error",
     "traceback": [
      "\u001b[1;31mRunning cells with 'Python 3.10.8 64-bit' requires ipykernel package.\n",
      "\u001b[1;31mRun the following command to install 'ipykernel' into the Python environment. \n",
      "\u001b[1;31mCommand: 'c:/msys64/mingw64/bin/python.exe -m pip install ipykernel -U --user --force-reinstall'"
     ]
    }
   ],
   "source": [
    "#Budget distribution with outliers removed\n",
    "sns.histplot(quant[quant['Budget (mil dollar)'] <= 100]['Budget (mil dollar)']).set(title='Distribution of Movie Budget (mil)')\n"
   ]
  },
  {
   "cell_type": "markdown",
   "metadata": {},
   "source": [
    "By only plotting the distribution of movies with budgets less than or equal to 100 million dollars, we can see that most movies have budgets under 20 million dollars. This also realistically makes sense given that a higher budget would neccessitate a greater box office to return a profit."
   ]
  },
  {
   "cell_type": "code",
   "execution_count": null,
   "metadata": {},
   "outputs": [
    {
     "ename": "",
     "evalue": "",
     "output_type": "error",
     "traceback": [
      "\u001b[1;31mRunning cells with 'Python 3.10.8 64-bit' requires ipykernel package.\n",
      "\u001b[1;31mRun the following command to install 'ipykernel' into the Python environment. \n",
      "\u001b[1;31mCommand: 'c:/msys64/mingw64/bin/python.exe -m pip install ipykernel -U --user --force-reinstall'"
     ]
    }
   ],
   "source": [
    "#Box Office distribution with outliers removed\n",
    "sns.histplot(quant[quant['Box office (mil dollar)'] <= 100]['Box office (mil dollar)']).set(title='Distribution of Box Office (mil)')\n"
   ]
  },
  {
   "cell_type": "markdown",
   "metadata": {},
   "source": [
    "Applying the same threshold to the box office data yields a distribution that looks similar to the budget distribution. This could suggest a relationship between movie budget and its respective box office amount."
   ]
  },
  {
   "cell_type": "code",
   "execution_count": null,
   "metadata": {},
   "outputs": [
    {
     "ename": "",
     "evalue": "",
     "output_type": "error",
     "traceback": [
      "\u001b[1;31mRunning cells with 'Python 3.10.8 64-bit' requires ipykernel package.\n",
      "\u001b[1;31mRun the following command to install 'ipykernel' into the Python environment. \n",
      "\u001b[1;31mCommand: 'c:/msys64/mingw64/bin/python.exe -m pip install ipykernel -U --user --force-reinstall'"
     ]
    }
   ],
   "source": [
    "#Scatterplot comparing Budget and Box office (in millions)\n",
    "sns.lmplot(x='Budget (mil dollar)', y='Box office (mil dollar)',data=quant, fit_reg=False, height=6,aspect=2, scatter_kws={'color':'red'})\n"
   ]
  },
  {
   "cell_type": "code",
   "execution_count": null,
   "metadata": {},
   "outputs": [
    {
     "ename": "",
     "evalue": "",
     "output_type": "error",
     "traceback": [
      "\u001b[1;31mRunning cells with 'Python 3.10.8 64-bit' requires ipykernel package.\n",
      "\u001b[1;31mRun the following command to install 'ipykernel' into the Python environment. \n",
      "\u001b[1;31mCommand: 'c:/msys64/mingw64/bin/python.exe -m pip install ipykernel -U --user --force-reinstall'"
     ]
    }
   ],
   "source": [
    "#Scatterplot with regression line\n",
    "sns.lmplot(x='Budget (mil dollar)', y='Box office (mil dollar)',data=quant, fit_reg=True, height=6,aspect=1.7,line_kws={'color':'red'},scatter_kws={'color':'red'})\n"
   ]
  },
  {
   "cell_type": "markdown",
   "metadata": {},
   "source": [
    "Plotting the Budget versus the Box office values of all the movies shows a rough positive correlation between budget and box office. However, this cannot imply causation given that there is lots of noise and outliers. The positive correlation line plotted is most likely due to the clustering of a large majority of the dataset under $100 million in both budget and box office.\n",
    "\n",
    "So while there is technically a positive correlation between budget and box office, no correlation relationship can be deduced from the given dataset.\n",
    "\n",
    "Furthermore, restricting the plot to data that falls below $100 million does not improve the regression line nor further imply a relationship given that outliers exist at an even higher frequency as the budget and box office decreases."
   ]
  },
  {
   "cell_type": "markdown",
   "metadata": {},
   "source": []
  },
  {
   "cell_type": "markdown",
   "metadata": {},
   "source": [
    "Another interesting question to investigate is whether more recent movies are more popular. A way that this can be explored is by plotting the Box Office amount to the Release year of the movie."
   ]
  },
  {
   "cell_type": "code",
   "execution_count": null,
   "metadata": {
    "scrolled": false
   },
   "outputs": [
    {
     "ename": "",
     "evalue": "",
     "output_type": "error",
     "traceback": [
      "\u001b[1;31mRunning cells with 'Python 3.10.8 64-bit' requires ipykernel package.\n",
      "\u001b[1;31mRun the following command to install 'ipykernel' into the Python environment. \n",
      "\u001b[1;31mCommand: 'c:/msys64/mingw64/bin/python.exe -m pip install ipykernel -U --user --force-reinstall'"
     ]
    }
   ],
   "source": [
    "#Release year versus Box Office\n",
    "sns.lmplot(x='Release year', y='Box office (mil dollar)',data=quant, fit_reg=False, height=6,aspect=2)\n"
   ]
  },
  {
   "cell_type": "markdown",
   "metadata": {},
   "source": [
    "When plotted as a scatterplot, we can see that the highest box office values exist solely in the 2000s or later which can imply the increased popularity of recent movies. This also makes sense given the greater interconnectivety of modern society within the past 20 years."
   ]
  }
 ],
 "metadata": {
  "kernelspec": {
   "display_name": "Python 3.10.8 64-bit",
   "language": "python",
   "name": "python3"
  },
  "language_info": {
   "codemirror_mode": {
    "name": "ipython",
    "version": 3
   },
   "file_extension": ".py",
   "mimetype": "text/x-python",
   "name": "python",
   "nbconvert_exporter": "python",
   "pygments_lexer": "ipython3",
   "version": "3.10.8"
  },
  "vscode": {
   "interpreter": {
    "hash": "2a8dfe095fce2b5e88c64a2c3ee084c8e0e0d70b23e7b95b1cfb538be294c5c8"
   }
  }
 },
 "nbformat": 4,
 "nbformat_minor": 2
}
